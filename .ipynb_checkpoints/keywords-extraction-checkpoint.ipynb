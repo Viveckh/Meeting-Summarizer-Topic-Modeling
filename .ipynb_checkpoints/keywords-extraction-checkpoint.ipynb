{
 "cells": [
  {
   "cell_type": "code",
   "execution_count": 50,
   "metadata": {},
   "outputs": [
    {
     "name": "stderr",
     "output_type": "stream",
     "text": [
      "[nltk_data] Downloading package stopwords to\n",
      "[nltk_data]     /Users/viveckh/nltk_data...\n",
      "[nltk_data]   Package stopwords is already up-to-date!\n",
      "[nltk_data] Downloading package wordnet to /Users/viveckh/nltk_data...\n",
      "[nltk_data]   Package wordnet is already up-to-date!\n",
      "UsageError: Line magic function `%` not found.\n"
     ]
    }
   ],
   "source": [
    "import pandas as pd\n",
    "from nltk.stem.porter import PorterStemmer\n",
    "import re\n",
    "\n",
    "import nltk\n",
    "from nltk.corpus import stopwords\n",
    "from nltk.stem.wordnet import WordNetLemmatizer\n",
    "from nltk.stem.porter import PorterStemmer\n",
    "from nltk.tokenize import RegexpTokenizer\n",
    "\n",
    "nltk.download('stopwords')\n",
    "nltk.download('wordnet')\n",
    "\n",
    "from os import path\n",
    "from PIL import Image\n",
    "from wordcloud import WordCloud, STOPWORDS, ImageColorGenerator\n",
    "from sklearn.feature_extraction.text import CountVectorizer\n",
    "from sklearn.feature_extraction.text import TfidfTransformer\n",
    "from scipy.sparse import coo_matrix\n",
    "import matplotlib.pyplot as plt\n",
    "% matplotlib inline\n",
    "\n"
   ]
  },
  {
   "cell_type": "code",
   "execution_count": 51,
   "metadata": {},
   "outputs": [
    {
     "data": {
      "text/html": [
       "<div>\n",
       "<style scoped>\n",
       "    .dataframe tbody tr th:only-of-type {\n",
       "        vertical-align: middle;\n",
       "    }\n",
       "\n",
       "    .dataframe tbody tr th {\n",
       "        vertical-align: top;\n",
       "    }\n",
       "\n",
       "    .dataframe thead th {\n",
       "        text-align: right;\n",
       "    }\n",
       "</style>\n",
       "<table border=\"1\" class=\"dataframe\">\n",
       "  <thead>\n",
       "    <tr style=\"text-align: right;\">\n",
       "      <th></th>\n",
       "      <th>listing_id</th>\n",
       "      <th>id</th>\n",
       "      <th>date</th>\n",
       "      <th>reviewer_id</th>\n",
       "      <th>reviewer_name</th>\n",
       "      <th>comments</th>\n",
       "    </tr>\n",
       "  </thead>\n",
       "  <tbody>\n",
       "    <tr>\n",
       "      <th>0</th>\n",
       "      <td>38585</td>\n",
       "      <td>129120</td>\n",
       "      <td>2010-10-28</td>\n",
       "      <td>55877</td>\n",
       "      <td>Ritchie</td>\n",
       "      <td>Evelyne is an accommodating host who lives in ...</td>\n",
       "    </tr>\n",
       "    <tr>\n",
       "      <th>1</th>\n",
       "      <td>38585</td>\n",
       "      <td>147273</td>\n",
       "      <td>2010-11-30</td>\n",
       "      <td>279973</td>\n",
       "      <td>Cathy</td>\n",
       "      <td>Evelyne was very welcoming to her home; my fri...</td>\n",
       "    </tr>\n",
       "    <tr>\n",
       "      <th>2</th>\n",
       "      <td>38585</td>\n",
       "      <td>198797</td>\n",
       "      <td>2011-03-14</td>\n",
       "      <td>411638</td>\n",
       "      <td>NaN</td>\n",
       "      <td>I really enjoyed Evelyne's welcoming and bubbl...</td>\n",
       "    </tr>\n",
       "    <tr>\n",
       "      <th>3</th>\n",
       "      <td>38585</td>\n",
       "      <td>201932</td>\n",
       "      <td>2011-03-17</td>\n",
       "      <td>441855</td>\n",
       "      <td>Bill</td>\n",
       "      <td>Very gracious host and was helpful in all aspe...</td>\n",
       "    </tr>\n",
       "    <tr>\n",
       "      <th>4</th>\n",
       "      <td>38585</td>\n",
       "      <td>341616</td>\n",
       "      <td>2011-06-28</td>\n",
       "      <td>657560</td>\n",
       "      <td>Joakim</td>\n",
       "      <td>Evelyn was very friendly and easy to comunicat...</td>\n",
       "    </tr>\n",
       "  </tbody>\n",
       "</table>\n",
       "</div>"
      ],
      "text/plain": [
       "   listing_id      id        date  reviewer_id reviewer_name  \\\n",
       "0       38585  129120  2010-10-28        55877       Ritchie   \n",
       "1       38585  147273  2010-11-30       279973         Cathy   \n",
       "2       38585  198797  2011-03-14       411638           NaN   \n",
       "3       38585  201932  2011-03-17       441855          Bill   \n",
       "4       38585  341616  2011-06-28       657560        Joakim   \n",
       "\n",
       "                                            comments  \n",
       "0  Evelyne is an accommodating host who lives in ...  \n",
       "1  Evelyne was very welcoming to her home; my fri...  \n",
       "2  I really enjoyed Evelyne's welcoming and bubbl...  \n",
       "3  Very gracious host and was helpful in all aspe...  \n",
       "4  Evelyn was very friendly and easy to comunicat...  "
      ]
     },
     "execution_count": 51,
     "metadata": {},
     "output_type": "execute_result"
    }
   ],
   "source": [
    "dataset = pd.read_csv(\"./reviews.csv\", delimiter=',')\n",
    "dataset.head()"
   ]
  },
  {
   "cell_type": "code",
   "execution_count": 52,
   "metadata": {},
   "outputs": [
    {
     "data": {
      "text/html": [
       "<div>\n",
       "<style scoped>\n",
       "    .dataframe tbody tr th:only-of-type {\n",
       "        vertical-align: middle;\n",
       "    }\n",
       "\n",
       "    .dataframe tbody tr th {\n",
       "        vertical-align: top;\n",
       "    }\n",
       "\n",
       "    .dataframe thead th {\n",
       "        text-align: right;\n",
       "    }\n",
       "</style>\n",
       "<table border=\"1\" class=\"dataframe\">\n",
       "  <thead>\n",
       "    <tr style=\"text-align: right;\">\n",
       "      <th></th>\n",
       "      <th>listing_id</th>\n",
       "      <th>id</th>\n",
       "      <th>date</th>\n",
       "      <th>reviewer_id</th>\n",
       "      <th>reviewer_name</th>\n",
       "      <th>comments</th>\n",
       "    </tr>\n",
       "  </thead>\n",
       "  <tbody>\n",
       "    <tr>\n",
       "      <th>0</th>\n",
       "      <td>38585</td>\n",
       "      <td>129120</td>\n",
       "      <td>2010-10-28</td>\n",
       "      <td>55877</td>\n",
       "      <td>Ritchie</td>\n",
       "      <td>Evelyne is an accommodating host who lives in ...</td>\n",
       "    </tr>\n",
       "    <tr>\n",
       "      <th>1</th>\n",
       "      <td>38585</td>\n",
       "      <td>147273</td>\n",
       "      <td>2010-11-30</td>\n",
       "      <td>279973</td>\n",
       "      <td>Cathy</td>\n",
       "      <td>Evelyne was very welcoming to her home; my fri...</td>\n",
       "    </tr>\n",
       "    <tr>\n",
       "      <th>2</th>\n",
       "      <td>38585</td>\n",
       "      <td>198797</td>\n",
       "      <td>2011-03-14</td>\n",
       "      <td>411638</td>\n",
       "      <td>NaN</td>\n",
       "      <td>I really enjoyed Evelyne's welcoming and bubbl...</td>\n",
       "    </tr>\n",
       "    <tr>\n",
       "      <th>3</th>\n",
       "      <td>38585</td>\n",
       "      <td>201932</td>\n",
       "      <td>2011-03-17</td>\n",
       "      <td>441855</td>\n",
       "      <td>Bill</td>\n",
       "      <td>Very gracious host and was helpful in all aspe...</td>\n",
       "    </tr>\n",
       "    <tr>\n",
       "      <th>4</th>\n",
       "      <td>38585</td>\n",
       "      <td>341616</td>\n",
       "      <td>2011-06-28</td>\n",
       "      <td>657560</td>\n",
       "      <td>Joakim</td>\n",
       "      <td>Evelyn was very friendly and easy to comunicat...</td>\n",
       "    </tr>\n",
       "  </tbody>\n",
       "</table>\n",
       "</div>"
      ],
      "text/plain": [
       "   listing_id      id        date  reviewer_id reviewer_name  \\\n",
       "0       38585  129120  2010-10-28        55877       Ritchie   \n",
       "1       38585  147273  2010-11-30       279973         Cathy   \n",
       "2       38585  198797  2011-03-14       411638           NaN   \n",
       "3       38585  201932  2011-03-17       441855          Bill   \n",
       "4       38585  341616  2011-06-28       657560        Joakim   \n",
       "\n",
       "                                            comments  \n",
       "0  Evelyne is an accommodating host who lives in ...  \n",
       "1  Evelyne was very welcoming to her home; my fri...  \n",
       "2  I really enjoyed Evelyne's welcoming and bubbl...  \n",
       "3  Very gracious host and was helpful in all aspe...  \n",
       "4  Evelyn was very friendly and easy to comunicat...  "
      ]
     },
     "execution_count": 52,
     "metadata": {},
     "output_type": "execute_result"
    }
   ],
   "source": [
    "dataset_df = dataset[dataset['comments'] != ''].reset_index(drop=True)\n",
    "dataset_df.head()"
   ]
  },
  {
   "cell_type": "code",
   "execution_count": 53,
   "metadata": {},
   "outputs": [
    {
     "name": "stdout",
     "output_type": "stream",
     "text": [
      "<class 'pandas.core.frame.DataFrame'>\n",
      "RangeIndex: 171351 entries, 0 to 171350\n",
      "Data columns (total 6 columns):\n",
      " #   Column         Non-Null Count   Dtype \n",
      "---  ------         --------------   ----- \n",
      " 0   listing_id     171351 non-null  int64 \n",
      " 1   id             171351 non-null  int64 \n",
      " 2   date           171351 non-null  object\n",
      " 3   reviewer_id    171351 non-null  int64 \n",
      " 4   reviewer_name  171350 non-null  object\n",
      " 5   comments       171301 non-null  object\n",
      "dtypes: int64(3), object(3)\n",
      "memory usage: 7.8+ MB\n"
     ]
    }
   ],
   "source": [
    "dataset_df.info()"
   ]
  },
  {
   "cell_type": "code",
   "execution_count": 54,
   "metadata": {},
   "outputs": [],
   "source": [
    "paragraphs_df = dataset_df[['listing_id', 'reviewer_id', 'comments']]"
   ]
  },
  {
   "cell_type": "markdown",
   "metadata": {},
   "source": [
    "## Word Counts"
   ]
  },
  {
   "cell_type": "code",
   "execution_count": 55,
   "metadata": {},
   "outputs": [
    {
     "name": "stderr",
     "output_type": "stream",
     "text": [
      "/Users/viveckh/.pyenv/versions/3.7.6/envs/accenture-hackathon/lib/python3.7/site-packages/ipykernel_launcher.py:1: SettingWithCopyWarning: \n",
      "A value is trying to be set on a copy of a slice from a DataFrame.\n",
      "Try using .loc[row_indexer,col_indexer] = value instead\n",
      "\n",
      "See the caveats in the documentation: https://pandas.pydata.org/pandas-docs/stable/user_guide/indexing.html#returning-a-view-versus-a-copy\n",
      "  \"\"\"Entry point for launching an IPython kernel.\n"
     ]
    },
    {
     "data": {
      "text/html": [
       "<div>\n",
       "<style scoped>\n",
       "    .dataframe tbody tr th:only-of-type {\n",
       "        vertical-align: middle;\n",
       "    }\n",
       "\n",
       "    .dataframe tbody tr th {\n",
       "        vertical-align: top;\n",
       "    }\n",
       "\n",
       "    .dataframe thead th {\n",
       "        text-align: right;\n",
       "    }\n",
       "</style>\n",
       "<table border=\"1\" class=\"dataframe\">\n",
       "  <thead>\n",
       "    <tr style=\"text-align: right;\">\n",
       "      <th></th>\n",
       "      <th>listing_id</th>\n",
       "      <th>reviewer_id</th>\n",
       "      <th>comments</th>\n",
       "      <th>word_count</th>\n",
       "    </tr>\n",
       "  </thead>\n",
       "  <tbody>\n",
       "    <tr>\n",
       "      <th>0</th>\n",
       "      <td>38585</td>\n",
       "      <td>55877</td>\n",
       "      <td>Evelyne is an accommodating host who lives in ...</td>\n",
       "      <td>33</td>\n",
       "    </tr>\n",
       "    <tr>\n",
       "      <th>1</th>\n",
       "      <td>38585</td>\n",
       "      <td>279973</td>\n",
       "      <td>Evelyne was very welcoming to her home; my fri...</td>\n",
       "      <td>21</td>\n",
       "    </tr>\n",
       "    <tr>\n",
       "      <th>2</th>\n",
       "      <td>38585</td>\n",
       "      <td>411638</td>\n",
       "      <td>I really enjoyed Evelyne's welcoming and bubbl...</td>\n",
       "      <td>52</td>\n",
       "    </tr>\n",
       "    <tr>\n",
       "      <th>3</th>\n",
       "      <td>38585</td>\n",
       "      <td>441855</td>\n",
       "      <td>Very gracious host and was helpful in all aspe...</td>\n",
       "      <td>18</td>\n",
       "    </tr>\n",
       "    <tr>\n",
       "      <th>4</th>\n",
       "      <td>38585</td>\n",
       "      <td>657560</td>\n",
       "      <td>Evelyn was very friendly and easy to comunicat...</td>\n",
       "      <td>31</td>\n",
       "    </tr>\n",
       "  </tbody>\n",
       "</table>\n",
       "</div>"
      ],
      "text/plain": [
       "   listing_id  reviewer_id                                           comments  \\\n",
       "0       38585        55877  Evelyne is an accommodating host who lives in ...   \n",
       "1       38585       279973  Evelyne was very welcoming to her home; my fri...   \n",
       "2       38585       411638  I really enjoyed Evelyne's welcoming and bubbl...   \n",
       "3       38585       441855  Very gracious host and was helpful in all aspe...   \n",
       "4       38585       657560  Evelyn was very friendly and easy to comunicat...   \n",
       "\n",
       "   word_count  \n",
       "0          33  \n",
       "1          21  \n",
       "2          52  \n",
       "3          18  \n",
       "4          31  "
      ]
     },
     "execution_count": 55,
     "metadata": {},
     "output_type": "execute_result"
    }
   ],
   "source": [
    "paragraphs_df['word_count'] = paragraphs_df['comments'].apply(lambda x: len(str(x).split(\" \")))\n",
    "paragraphs_df.head()"
   ]
  },
  {
   "cell_type": "markdown",
   "metadata": {},
   "source": [
    "### Most Common and Uncommon Words"
   ]
  },
  {
   "cell_type": "code",
   "execution_count": 56,
   "metadata": {},
   "outputs": [
    {
     "data": {
      "text/plain": [
       "and      393838\n",
       "to       256341\n",
       "the      256085\n",
       "a        223607\n",
       "was      201584\n",
       "         126996\n",
       "in       116978\n",
       "is       115533\n",
       "for       99457\n",
       "The       93376\n",
       "of        91747\n",
       "very      76200\n",
       "we        75533\n",
       "place     70253\n",
       "We        66647\n",
       "I         66474\n",
       "great     65735\n",
       "with      65454\n",
       "stay      62157\n",
       "our       55460\n",
       "dtype: int64"
      ]
     },
     "execution_count": 56,
     "metadata": {},
     "output_type": "execute_result"
    }
   ],
   "source": [
    "str_of_abstracts = ' '.join(str(abstract) for abstract in paragraphs_df['comments'])\n",
    "frequency = pd.Series(str_of_abstracts.split(' ')).value_counts()[:20]\n",
    "frequency"
   ]
  },
  {
   "cell_type": "code",
   "execution_count": 57,
   "metadata": {},
   "outputs": [
    {
     "data": {
      "text/plain": [
       "Band-Aid                 1\n",
       "driveway.\\n\\nOverall,    1\n",
       "(bouchon                 1\n",
       "basics.\\n\\nAnd           1\n",
       "cercanos.\\nCama          1\n",
       "trails.\\nWould           1\n",
       "recomandation            1\n",
       "offer--it's              1\n",
       "(complimentary!),        1\n",
       "surface!                 1\n",
       "\\nthank                  1\n",
       "outrunning               1\n",
       "\\n\\nDescription          1\n",
       "Petanque                 1\n",
       "representatives          1\n",
       "\\r\\n\\r\\nDavid's          1\n",
       "fire-stick               1\n",
       "clincher                 1\n",
       "successfully).           1\n",
       "pillows\\n-snacks         1\n",
       "dtype: int64"
      ]
     },
     "execution_count": 57,
     "metadata": {},
     "output_type": "execute_result"
    }
   ],
   "source": [
    "frequency = pd.Series(str_of_abstracts.split(' ')).value_counts()[-20:]\n",
    "frequency"
   ]
  },
  {
   "cell_type": "markdown",
   "metadata": {},
   "source": [
    "### Removing stopwords\n",
    "### Normalizing the words using Stemming and Lemmatization\n",
    "\n",
    "Stemming normalizes text by removing suffixes.\n",
    "\n",
    "Lemmatization normalizes text based on the root of the word (more advanced).\n",
    "\n",
    "Probably better focusing on stemming for colloquial words"
   ]
  },
  {
   "cell_type": "code",
   "execution_count": 58,
   "metadata": {},
   "outputs": [],
   "source": [
    "stop_words = set(stopwords.words(\"english\"))\n",
    "contextual_stop_words = ['any']\n",
    "stop_words = stop_words.union(contextual_stop_words)"
   ]
  },
  {
   "cell_type": "code",
   "execution_count": 59,
   "metadata": {},
   "outputs": [],
   "source": [
    "def prep_the_corpus(text, stop_word_list):\n",
    "\n",
    "    text = str(text)\n",
    "    #Remove punctuations (Match everything not in the alphabet range)\n",
    "    text = re.sub('[^a-zA-Z]', ' ', text)\n",
    "    \n",
    "    #Convert to lowercase\n",
    "    text = text.lower()\n",
    "    \n",
    "    # remove special characters and digits\n",
    "    text = re.sub(\"(\\\\d|\\\\W)+\", \" \", text)\n",
    "    \n",
    "    ##Convert to list from string\n",
    "    text = text.split()\n",
    "    \n",
    "    ##Stemming\n",
    "    ps=PorterStemmer()\n",
    "    \n",
    "    #Lemmatisation\n",
    "    lem = WordNetLemmatizer()\n",
    "    \n",
    "    text = [lem.lemmatize(word) for word in text if not word in stop_words] \n",
    "    text = \" \".join(text)\n",
    "    return text\n",
    "\n"
   ]
  },
  {
   "cell_type": "code",
   "execution_count": 60,
   "metadata": {},
   "outputs": [
    {
     "name": "stderr",
     "output_type": "stream",
     "text": [
      "/Users/viveckh/.pyenv/versions/3.7.6/envs/accenture-hackathon/lib/python3.7/site-packages/ipykernel_launcher.py:1: SettingWithCopyWarning: \n",
      "A value is trying to be set on a copy of a slice from a DataFrame.\n",
      "Try using .loc[row_indexer,col_indexer] = value instead\n",
      "\n",
      "See the caveats in the documentation: https://pandas.pydata.org/pandas-docs/stable/user_guide/indexing.html#returning-a-view-versus-a-copy\n",
      "  \"\"\"Entry point for launching an IPython kernel.\n"
     ]
    },
    {
     "data": {
      "text/html": [
       "<div>\n",
       "<style scoped>\n",
       "    .dataframe tbody tr th:only-of-type {\n",
       "        vertical-align: middle;\n",
       "    }\n",
       "\n",
       "    .dataframe tbody tr th {\n",
       "        vertical-align: top;\n",
       "    }\n",
       "\n",
       "    .dataframe thead th {\n",
       "        text-align: right;\n",
       "    }\n",
       "</style>\n",
       "<table border=\"1\" class=\"dataframe\">\n",
       "  <thead>\n",
       "    <tr style=\"text-align: right;\">\n",
       "      <th></th>\n",
       "      <th>listing_id</th>\n",
       "      <th>reviewer_id</th>\n",
       "      <th>comments</th>\n",
       "      <th>word_count</th>\n",
       "      <th>corpus</th>\n",
       "    </tr>\n",
       "  </thead>\n",
       "  <tbody>\n",
       "    <tr>\n",
       "      <th>0</th>\n",
       "      <td>38585</td>\n",
       "      <td>55877</td>\n",
       "      <td>Evelyne is an accommodating host who lives in ...</td>\n",
       "      <td>33</td>\n",
       "      <td>evelyne accommodating host life beautiful rura...</td>\n",
       "    </tr>\n",
       "    <tr>\n",
       "      <th>1</th>\n",
       "      <td>38585</td>\n",
       "      <td>279973</td>\n",
       "      <td>Evelyne was very welcoming to her home; my fri...</td>\n",
       "      <td>21</td>\n",
       "      <td>evelyne welcoming home friend enjoyed company ...</td>\n",
       "    </tr>\n",
       "    <tr>\n",
       "      <th>2</th>\n",
       "      <td>38585</td>\n",
       "      <td>411638</td>\n",
       "      <td>I really enjoyed Evelyne's welcoming and bubbl...</td>\n",
       "      <td>52</td>\n",
       "      <td>really enjoyed evelyne welcoming bubbly person...</td>\n",
       "    </tr>\n",
       "    <tr>\n",
       "      <th>3</th>\n",
       "      <td>38585</td>\n",
       "      <td>441855</td>\n",
       "      <td>Very gracious host and was helpful in all aspe...</td>\n",
       "      <td>18</td>\n",
       "      <td>gracious host helpful aspect finding home info...</td>\n",
       "    </tr>\n",
       "    <tr>\n",
       "      <th>4</th>\n",
       "      <td>38585</td>\n",
       "      <td>657560</td>\n",
       "      <td>Evelyn was very friendly and easy to comunicat...</td>\n",
       "      <td>31</td>\n",
       "      <td>evelyn friendly easy comunicate hous clean mad...</td>\n",
       "    </tr>\n",
       "  </tbody>\n",
       "</table>\n",
       "</div>"
      ],
      "text/plain": [
       "   listing_id  reviewer_id                                           comments  \\\n",
       "0       38585        55877  Evelyne is an accommodating host who lives in ...   \n",
       "1       38585       279973  Evelyne was very welcoming to her home; my fri...   \n",
       "2       38585       411638  I really enjoyed Evelyne's welcoming and bubbl...   \n",
       "3       38585       441855  Very gracious host and was helpful in all aspe...   \n",
       "4       38585       657560  Evelyn was very friendly and easy to comunicat...   \n",
       "\n",
       "   word_count                                             corpus  \n",
       "0          33  evelyne accommodating host life beautiful rura...  \n",
       "1          21  evelyne welcoming home friend enjoyed company ...  \n",
       "2          52  really enjoyed evelyne welcoming bubbly person...  \n",
       "3          18  gracious host helpful aspect finding home info...  \n",
       "4          31  evelyn friendly easy comunicate hous clean mad...  "
      ]
     },
     "execution_count": 60,
     "metadata": {},
     "output_type": "execute_result"
    }
   ],
   "source": [
    "paragraphs_df['corpus'] = paragraphs_df['comments'].apply(prep_the_corpus, args=(stop_words,))\n",
    "paragraphs_df.head()"
   ]
  },
  {
   "cell_type": "markdown",
   "metadata": {},
   "source": [
    "### Vectorization\n",
    "\n",
    "`max_df` ignoring terms that have a an occurence higher than the given threshold - corpus specific stop words"
   ]
  },
  {
   "cell_type": "code",
   "execution_count": 61,
   "metadata": {},
   "outputs": [],
   "source": [
    "cv = CountVectorizer(max_df=0.8, stop_words=stop_words, max_features=10000, ngram_range=(1,3))\n",
    "count_vector = cv.fit_transform(paragraphs_df['corpus'])"
   ]
  },
  {
   "cell_type": "code",
   "execution_count": 62,
   "metadata": {},
   "outputs": [
    {
     "data": {
      "text/plain": [
       "['evelyne',\n",
       " 'accommodating',\n",
       " 'host',\n",
       " 'life',\n",
       " 'beautiful',\n",
       " 'rural',\n",
       " 'area',\n",
       " 'outside',\n",
       " 'asheville',\n",
       " 'recommend',\n",
       " 'staying',\n",
       " 'looking',\n",
       " 'peace',\n",
       " 'quiet',\n",
       " 'natural',\n",
       " 'setting',\n",
       " 'accommodating host',\n",
       " 'area outside',\n",
       " 'outside asheville',\n",
       " 'asheville recommend']"
      ]
     },
     "execution_count": 62,
     "metadata": {},
     "output_type": "execute_result"
    }
   ],
   "source": [
    "# Peepin into the vocabs\n",
    "list(cv.vocabulary_.keys())[:20]"
   ]
  },
  {
   "cell_type": "markdown",
   "metadata": {},
   "source": [
    "### Most frequent topics"
   ]
  },
  {
   "cell_type": "code",
   "execution_count": 63,
   "metadata": {},
   "outputs": [],
   "source": [
    "def get_top_n_grams(corpus, n, no_of_entries=None):\n",
    "    \"\"\"\n",
    "    n refers to no of grams - uni-grams, bi-grams, tri-grams, etc\n",
    "    So pass the numbers like 1, 2, 3, etc\n",
    "    \"\"\"\n",
    "    \n",
    "    vec = CountVectorizer(ngram_range=(n, n), max_features=2500).fit(corpus)\n",
    "    bag_of_words = vec.transform(corpus)\n",
    "    sum_words = bag_of_words.sum(axis=0) \n",
    "    words_freq = [(word, sum_words[0, idx]) for word, idx in vec.vocabulary_.items()]\n",
    "    words_freq = sorted(words_freq, key = lambda x: x[1], reverse=True)\n",
    "    return pd.DataFrame(words_freq[:no_of_entries])"
   ]
  },
  {
   "cell_type": "code",
   "execution_count": 64,
   "metadata": {},
   "outputs": [
    {
     "data": {
      "text/html": [
       "<div>\n",
       "<style scoped>\n",
       "    .dataframe tbody tr th:only-of-type {\n",
       "        vertical-align: middle;\n",
       "    }\n",
       "\n",
       "    .dataframe tbody tr th {\n",
       "        vertical-align: top;\n",
       "    }\n",
       "\n",
       "    .dataframe thead th {\n",
       "        text-align: right;\n",
       "    }\n",
       "</style>\n",
       "<table border=\"1\" class=\"dataframe\">\n",
       "  <thead>\n",
       "    <tr style=\"text-align: right;\">\n",
       "      <th></th>\n",
       "      <th>0</th>\n",
       "      <th>1</th>\n",
       "    </tr>\n",
       "  </thead>\n",
       "  <tbody>\n",
       "    <tr>\n",
       "      <th>0</th>\n",
       "      <td>great location</td>\n",
       "      <td>18179</td>\n",
       "    </tr>\n",
       "    <tr>\n",
       "      <th>1</th>\n",
       "      <td>would definitely</td>\n",
       "      <td>14652</td>\n",
       "    </tr>\n",
       "    <tr>\n",
       "      <th>2</th>\n",
       "      <td>downtown asheville</td>\n",
       "      <td>13867</td>\n",
       "    </tr>\n",
       "    <tr>\n",
       "      <th>3</th>\n",
       "      <td>highly recommend</td>\n",
       "      <td>13378</td>\n",
       "    </tr>\n",
       "    <tr>\n",
       "      <th>4</th>\n",
       "      <td>place stay</td>\n",
       "      <td>12300</td>\n",
       "    </tr>\n",
       "    <tr>\n",
       "      <th>5</th>\n",
       "      <td>great place</td>\n",
       "      <td>11843</td>\n",
       "    </tr>\n",
       "    <tr>\n",
       "      <th>6</th>\n",
       "      <td>definitely stay</td>\n",
       "      <td>10932</td>\n",
       "    </tr>\n",
       "    <tr>\n",
       "      <th>7</th>\n",
       "      <td>great host</td>\n",
       "      <td>8432</td>\n",
       "    </tr>\n",
       "    <tr>\n",
       "      <th>8</th>\n",
       "      <td>close downtown</td>\n",
       "      <td>8398</td>\n",
       "    </tr>\n",
       "    <tr>\n",
       "      <th>9</th>\n",
       "      <td>west asheville</td>\n",
       "      <td>8019</td>\n",
       "    </tr>\n",
       "    <tr>\n",
       "      <th>10</th>\n",
       "      <td>walking distance</td>\n",
       "      <td>7543</td>\n",
       "    </tr>\n",
       "    <tr>\n",
       "      <th>11</th>\n",
       "      <td>everything needed</td>\n",
       "      <td>7250</td>\n",
       "    </tr>\n",
       "    <tr>\n",
       "      <th>12</th>\n",
       "      <td>clean comfortable</td>\n",
       "      <td>6226</td>\n",
       "    </tr>\n",
       "    <tr>\n",
       "      <th>13</th>\n",
       "      <td>place great</td>\n",
       "      <td>6109</td>\n",
       "    </tr>\n",
       "    <tr>\n",
       "      <th>14</th>\n",
       "      <td>definitely recommend</td>\n",
       "      <td>5871</td>\n",
       "    </tr>\n",
       "    <tr>\n",
       "      <th>15</th>\n",
       "      <td>enjoyed stay</td>\n",
       "      <td>5867</td>\n",
       "    </tr>\n",
       "    <tr>\n",
       "      <th>16</th>\n",
       "      <td>would stay</td>\n",
       "      <td>5557</td>\n",
       "    </tr>\n",
       "    <tr>\n",
       "      <th>17</th>\n",
       "      <td>great stay</td>\n",
       "      <td>5405</td>\n",
       "    </tr>\n",
       "    <tr>\n",
       "      <th>18</th>\n",
       "      <td>would recommend</td>\n",
       "      <td>5043</td>\n",
       "    </tr>\n",
       "    <tr>\n",
       "      <th>19</th>\n",
       "      <td>stay asheville</td>\n",
       "      <td>4931</td>\n",
       "    </tr>\n",
       "    <tr>\n",
       "      <th>20</th>\n",
       "      <td>come back</td>\n",
       "      <td>4784</td>\n",
       "    </tr>\n",
       "    <tr>\n",
       "      <th>21</th>\n",
       "      <td>drive downtown</td>\n",
       "      <td>4705</td>\n",
       "    </tr>\n",
       "    <tr>\n",
       "      <th>22</th>\n",
       "      <td>close everything</td>\n",
       "      <td>4550</td>\n",
       "    </tr>\n",
       "    <tr>\n",
       "      <th>23</th>\n",
       "      <td>place clean</td>\n",
       "      <td>4483</td>\n",
       "    </tr>\n",
       "    <tr>\n",
       "      <th>24</th>\n",
       "      <td>place perfect</td>\n",
       "      <td>4339</td>\n",
       "    </tr>\n",
       "  </tbody>\n",
       "</table>\n",
       "</div>"
      ],
      "text/plain": [
       "                       0      1\n",
       "0         great location  18179\n",
       "1       would definitely  14652\n",
       "2     downtown asheville  13867\n",
       "3       highly recommend  13378\n",
       "4             place stay  12300\n",
       "5            great place  11843\n",
       "6        definitely stay  10932\n",
       "7             great host   8432\n",
       "8         close downtown   8398\n",
       "9         west asheville   8019\n",
       "10      walking distance   7543\n",
       "11     everything needed   7250\n",
       "12     clean comfortable   6226\n",
       "13           place great   6109\n",
       "14  definitely recommend   5871\n",
       "15          enjoyed stay   5867\n",
       "16            would stay   5557\n",
       "17            great stay   5405\n",
       "18       would recommend   5043\n",
       "19        stay asheville   4931\n",
       "20             come back   4784\n",
       "21        drive downtown   4705\n",
       "22      close everything   4550\n",
       "23           place clean   4483\n",
       "24         place perfect   4339"
      ]
     },
     "execution_count": 64,
     "metadata": {},
     "output_type": "execute_result"
    }
   ],
   "source": [
    "top_bigrams_df = get_top_n_grams(paragraphs_df['corpus'], 2, 25)\n",
    "top_bigrams_df"
   ]
  },
  {
   "cell_type": "markdown",
   "metadata": {},
   "source": [
    "## TF-IDF\n",
    "\n",
    "TF  = freq of term in doc / total number of terms in the doc\n",
    "\n",
    "IDF = log(total number of docs) / Number of docs with the term"
   ]
  },
  {
   "cell_type": "code",
   "execution_count": 65,
   "metadata": {},
   "outputs": [
    {
     "data": {
      "text/plain": [
       "<171351x10000 sparse matrix of type '<class 'numpy.int64'>'\n",
       "\twith 5580811 stored elements in Compressed Sparse Row format>"
      ]
     },
     "execution_count": 65,
     "metadata": {},
     "output_type": "execute_result"
    }
   ],
   "source": [
    "count_vector"
   ]
  },
  {
   "cell_type": "code",
   "execution_count": 66,
   "metadata": {},
   "outputs": [],
   "source": [
    "tfidf_transformer = TfidfTransformer(smooth_idf=True, use_idf=True)\n",
    "tfidf_transformer.fit(count_vector)\n",
    "\n",
    "# get feature names\n",
    "feature_names=cv.get_feature_names()"
   ]
  },
  {
   "cell_type": "code",
   "execution_count": 67,
   "metadata": {},
   "outputs": [],
   "source": [
    "def sort_coo(coo_matrix):\n",
    "    \"\"\"To sort the tf_idf result in descending order\"\"\" \n",
    "    \n",
    "    tuples = zip(coo_matrix.col, coo_matrix.data)\n",
    "    return sorted(tuples, key=lambda x: (x[1], x[0]), reverse=True)"
   ]
  },
  {
   "cell_type": "code",
   "execution_count": 68,
   "metadata": {},
   "outputs": [],
   "source": [
    "def extract_topn_from_vector(feature_names, sorted_items, topn=10):\n",
    "    \"\"\"get the feature names and tf-idf score of top n items\"\"\"\n",
    "    \n",
    "    #use only topn items from vector\n",
    "    sorted_items = sorted_items[:topn]\n",
    " \n",
    "    score_vals = []\n",
    "    feature_vals = []\n",
    "    \n",
    "    # word index and corresponding tf-idf score\n",
    "    for idx, score in sorted_items:\n",
    "        #keep track of feature name and its corresponding score\n",
    "        score_vals.append(round(score, 3))\n",
    "        feature_vals.append(feature_names[idx])\n",
    " \n",
    "    #create a tuples of feature,score\n",
    "    #results = zip(feature_vals,score_vals)\n",
    "    results= {}\n",
    "    for idx in range(len(feature_vals)):\n",
    "        results[feature_vals[idx]]=score_vals[idx]\n",
    "    \n",
    "    return results"
   ]
  },
  {
   "cell_type": "code",
   "execution_count": 69,
   "metadata": {},
   "outputs": [],
   "source": [
    "def extract_keywords(tfidf_transformer, countVectorizer, document):\n",
    "    \n",
    "    #generate tf-idf for the given document\n",
    "    tf_idf_vector = tfidf_transformer.transform(countVectorizer.transform([document]))\n",
    "    \n",
    "    #sort the tf-idf vectors by descending order of scores\n",
    "    sorted_items=sort_coo(tf_idf_vector.tocoo())\n",
    "    \n",
    "    #extract only the top n; n here is 10\n",
    "    keywords=extract_topn_from_vector(feature_names,sorted_items,5)\n",
    "    \n",
    "    return document, keywords \n",
    "    "
   ]
  },
  {
   "cell_type": "markdown",
   "metadata": {},
   "source": [
    "### Make the final call"
   ]
  },
  {
   "cell_type": "code",
   "execution_count": 78,
   "metadata": {},
   "outputs": [
    {
     "name": "stdout",
     "output_type": "stream",
     "text": [
      "House was great, super comfortable and nicely designed! We had a wonderful weekend, less than 5 minute Uber ride to downtown! Chris was very accommodating and there right on time to let us in the house. Would definitely recommend the Montford house! \n",
      "\n",
      " {'house': 0.263, 'comfortable nicely': 0.263, 'house would definitely': 0.262, 'minute uber ride': 0.233, 'wonderful weekend': 0.232}\n"
     ]
    }
   ],
   "source": [
    "resp_doc, resp_keywords = extract_keywords(tfidf_transformer, cv, paragraphs_df['comments'].values[34521])\n",
    "print(resp_doc, \"\\n\\n\", resp_keywords)"
   ]
  },
  {
   "cell_type": "code",
   "execution_count": null,
   "metadata": {},
   "outputs": [],
   "source": []
  }
 ],
 "metadata": {
  "kernelspec": {
   "display_name": "Python 3",
   "language": "python",
   "name": "python3"
  },
  "language_info": {
   "codemirror_mode": {
    "name": "ipython",
    "version": 3
   },
   "file_extension": ".py",
   "mimetype": "text/x-python",
   "name": "python",
   "nbconvert_exporter": "python",
   "pygments_lexer": "ipython3",
   "version": "3.7.6"
  }
 },
 "nbformat": 4,
 "nbformat_minor": 4
}
